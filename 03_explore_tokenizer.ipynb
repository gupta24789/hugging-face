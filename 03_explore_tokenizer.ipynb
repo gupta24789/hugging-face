{
  "cells": [
    {
      "cell_type": "markdown",
      "metadata": {
        "id": "view-in-github",
        "colab_type": "text"
      },
      "source": [
        "<a href=\"https://colab.research.google.com/github/gupta24789/hugging-face/blob/main/03_explore_tokenizer.ipynb\" target=\"_parent\"><img src=\"https://colab.research.google.com/assets/colab-badge.svg\" alt=\"Open In Colab\"/></a>"
      ]
    },
    {
      "cell_type": "markdown",
      "metadata": {
        "id": "va7R84UX8z06"
      },
      "source": [
        "#### Most popular argument of tokenizer\n",
        "\n",
        "```\n",
        "text: input text\n",
        "text_pair: Union[str, List[str], List[int], NoneType] = None,\n",
        "add_special_tokens: bool = True => add special tokens\n",
        "padding: if sentence length is smaller than max_length then padd the senetence\n",
        "truncation: if True truccate the length if its greater than max_length\n",
        "max_length: int or None => maximum length of sentence\n",
        "return_tensors: pt -> for pytorch tensor\n",
        "```"
      ]
    },
    {
      "cell_type": "code",
      "execution_count": null,
      "metadata": {
        "id": "qGlLPSaA8z1A"
      },
      "outputs": [],
      "source": [
        "from transformers import AutoTokenizer"
      ]
    },
    {
      "cell_type": "code",
      "execution_count": null,
      "metadata": {
        "id": "fQs_gLe08z1C"
      },
      "outputs": [],
      "source": [
        "tokenizer = AutoTokenizer.from_pretrained(\"google-bert/bert-base-uncased\")"
      ]
    },
    {
      "cell_type": "markdown",
      "metadata": {
        "id": "WDO-F5CA8z1D"
      },
      "source": [
        "## Check for fast tokenizer"
      ]
    },
    {
      "cell_type": "code",
      "execution_count": null,
      "metadata": {
        "id": "xeWQ3YST8z1E",
        "outputId": "f92959dc-4970-414f-a8a2-facb65f0c09d"
      },
      "outputs": [
        {
          "data": {
            "text/plain": [
              "True"
            ]
          },
          "execution_count": 23,
          "metadata": {},
          "output_type": "execute_result"
        }
      ],
      "source": [
        "tokenizer.is_fast"
      ]
    },
    {
      "cell_type": "markdown",
      "metadata": {
        "id": "hMNG_Koq8z1F"
      },
      "source": [
        "## encode functions"
      ]
    },
    {
      "cell_type": "code",
      "execution_count": null,
      "metadata": {
        "id": "46iP9Bmq8z1G"
      },
      "outputs": [],
      "source": [
        "input_text = \"How are you?\""
      ]
    },
    {
      "cell_type": "code",
      "execution_count": null,
      "metadata": {
        "id": "-Fj3y2Ms8z1H",
        "outputId": "befdbfd8-3510-4947-97c0-7778367c4bcb"
      },
      "outputs": [
        {
          "data": {
            "text/plain": [
              "[101, 2129, 2024, 2017, 1029, 102]"
            ]
          },
          "execution_count": 34,
          "metadata": {},
          "output_type": "execute_result"
        }
      ],
      "source": [
        "tokens = tokenizer.encode(input_text)\n",
        "tokens"
      ]
    },
    {
      "cell_type": "code",
      "execution_count": null,
      "metadata": {
        "id": "5hgYPwKz8z1J",
        "outputId": "3921874b-affb-46a5-d27b-55518dc8e10e"
      },
      "outputs": [
        {
          "data": {
            "text/plain": [
              "'[CLS] how are you? [SEP]'"
            ]
          },
          "execution_count": 35,
          "metadata": {},
          "output_type": "execute_result"
        }
      ],
      "source": [
        "tokenizer.decode(tokens)"
      ]
    },
    {
      "cell_type": "code",
      "execution_count": null,
      "metadata": {
        "id": "o60qG2ay8z1K",
        "outputId": "4d9f0d1a-00ff-4132-fe28-f86a9583e3a3"
      },
      "outputs": [
        {
          "data": {
            "text/plain": [
              "['[CLS]', 'how', 'are', 'you', '?', '[SEP]']"
            ]
          },
          "execution_count": 43,
          "metadata": {},
          "output_type": "execute_result"
        }
      ],
      "source": [
        "## Ids to tokens\n",
        "tokens_list = [tokenizer.convert_ids_to_tokens(token) for token in tokens]\n",
        "tokens_list"
      ]
    },
    {
      "cell_type": "code",
      "execution_count": null,
      "metadata": {
        "id": "SZcStnJu8z1K",
        "outputId": "76695985-44b5-48dc-a50e-a26839c9f70f"
      },
      "outputs": [
        {
          "data": {
            "text/plain": [
              "[101, 2129, 2024, 2017, 1029, 102]"
            ]
          },
          "execution_count": 45,
          "metadata": {},
          "output_type": "execute_result"
        }
      ],
      "source": [
        "## Tokens to IDS\n",
        "token_id_list = [tokenizer.convert_tokens_to_ids(token) for token in tokens_list]\n",
        "token_id_list"
      ]
    },
    {
      "cell_type": "code",
      "execution_count": null,
      "metadata": {
        "id": "dTaC-ZWz8z1L",
        "outputId": "192b38f7-299b-4217-f68a-2d9610a944a4"
      },
      "outputs": [
        {
          "data": {
            "text/plain": [
              "'[CLS] how are you? [SEP]'"
            ]
          },
          "execution_count": 46,
          "metadata": {},
          "output_type": "execute_result"
        }
      ],
      "source": [
        "tokenizer.convert_tokens_to_string(tokens_list)"
      ]
    },
    {
      "cell_type": "code",
      "execution_count": null,
      "metadata": {
        "id": "8Ozd5Ehe8z1L",
        "outputId": "0c030b8f-00a4-4a81-b612-22015eba8861"
      },
      "outputs": [
        {
          "data": {
            "text/plain": [
              "[101, 2129, 2024, 2017, 1029, 102]"
            ]
          },
          "execution_count": 50,
          "metadata": {},
          "output_type": "execute_result"
        }
      ],
      "source": [
        "## Get token, token typeids, attension mask\n",
        "tokenizer.encode(input_text)"
      ]
    },
    {
      "cell_type": "code",
      "execution_count": null,
      "metadata": {
        "id": "GUkqXend8z1M",
        "outputId": "1486da15-4db9-4e68-c773-b00ebbc8d7e9"
      },
      "outputs": [
        {
          "data": {
            "text/plain": [
              "{'unk_token': '[UNK]',\n",
              " 'sep_token': '[SEP]',\n",
              " 'pad_token': '[PAD]',\n",
              " 'cls_token': '[CLS]',\n",
              " 'mask_token': '[MASK]'}"
            ]
          },
          "execution_count": 51,
          "metadata": {},
          "output_type": "execute_result"
        }
      ],
      "source": [
        "tokenizer.special_tokens_map"
      ]
    },
    {
      "cell_type": "code",
      "execution_count": null,
      "metadata": {
        "id": "G6XrtQTT8z1N",
        "outputId": "295fdc7b-37f3-467d-98c8-aebed76e5d82"
      },
      "outputs": [
        {
          "data": {
            "text/plain": [
              "[101, 2129, 2024, 2017, 1029, 102, 0, 0, 0, 0]"
            ]
          },
          "execution_count": 67,
          "metadata": {},
          "output_type": "execute_result"
        }
      ],
      "source": [
        "tokens = tokenizer.encode(input_text, padding='max_length', max_length=10, truncation=True, add_special_tokens= True)\n",
        "tokens"
      ]
    },
    {
      "cell_type": "code",
      "execution_count": null,
      "metadata": {
        "id": "Lg21ECOB8z1N",
        "outputId": "0d5f5c5c-e024-43cf-f3f4-aed6ef851d26"
      },
      "outputs": [
        {
          "data": {
            "text/plain": [
              "'[CLS] how are you? [SEP] [PAD] [PAD] [PAD] [PAD]'"
            ]
          },
          "execution_count": 68,
          "metadata": {},
          "output_type": "execute_result"
        }
      ],
      "source": [
        "tokenizer.decode(tokens)"
      ]
    },
    {
      "cell_type": "markdown",
      "metadata": {
        "id": "A0jWi-ba8z1O"
      },
      "source": [
        " ## encode_plus functions"
      ]
    },
    {
      "cell_type": "code",
      "execution_count": null,
      "metadata": {
        "id": "20RisKOD8z1P",
        "outputId": "401f7ee2-ad13-45e4-ef10-830eab5b1199"
      },
      "outputs": [
        {
          "name": "stdout",
          "output_type": "stream",
          "text": [
            "{'input_ids': [101, 2129, 2024, 2017, 1029, 102, 0, 0, 0, 0], 'token_type_ids': [0, 0, 0, 0, 0, 0, 0, 0, 0, 0], 'attention_mask': [1, 1, 1, 1, 1, 1, 0, 0, 0, 0]}\n"
          ]
        }
      ],
      "source": [
        "inputs = tokenizer.encode_plus(input_text, padding='max_length',truncation=True, max_length= 10)\n",
        "print(inputs)"
      ]
    },
    {
      "cell_type": "code",
      "execution_count": null,
      "metadata": {
        "id": "hnghtSVE8z1Q",
        "outputId": "68438f5c-782c-4473-ec88-2ffd0d2537fb"
      },
      "outputs": [
        {
          "data": {
            "text/plain": [
              "'[CLS] how are you? [SEP] [PAD] [PAD] [PAD] [PAD]'"
            ]
          },
          "execution_count": 95,
          "metadata": {},
          "output_type": "execute_result"
        }
      ],
      "source": [
        "tokenizer.decode(token_ids=inputs['input_ids'])"
      ]
    },
    {
      "cell_type": "code",
      "execution_count": null,
      "metadata": {
        "id": "4PKB3yof8z1Q",
        "outputId": "92c15932-e059-411e-ca82-277a2bf71210"
      },
      "outputs": [
        {
          "data": {
            "text/plain": [
              "torch.Size([2, 10])"
            ]
          },
          "execution_count": 83,
          "metadata": {},
          "output_type": "execute_result"
        }
      ],
      "source": [
        "## multiple inputs\n",
        "inputs = tokenizer.batch_encode_plus([input_text, input_text], padding='max_length',truncation=True, max_length= 10, return_tensors='pt')\n",
        "inputs['input_ids'].shape"
      ]
    },
    {
      "cell_type": "code",
      "execution_count": null,
      "metadata": {
        "id": "mVnLVbIe8z1R",
        "outputId": "06631cd9-4696-40fd-ac2e-0cf8f1c733bf"
      },
      "outputs": [
        {
          "data": {
            "text/plain": [
              "{'input_ids': tensor([[ 101, 2129, 2024, 2017, 1029,  102,    0,    0,    0,    0],\n",
              "        [ 101, 2129, 2024, 2017, 1029,  102,    0,    0,    0,    0]]), 'token_type_ids': tensor([[0, 0, 0, 0, 0, 0, 0, 0, 0, 0],\n",
              "        [0, 0, 0, 0, 0, 0, 0, 0, 0, 0]]), 'attention_mask': tensor([[1, 1, 1, 1, 1, 1, 0, 0, 0, 0],\n",
              "        [1, 1, 1, 1, 1, 1, 0, 0, 0, 0]])}"
            ]
          },
          "execution_count": 84,
          "metadata": {},
          "output_type": "execute_result"
        }
      ],
      "source": [
        "inputs"
      ]
    },
    {
      "cell_type": "code",
      "execution_count": null,
      "metadata": {
        "id": "2PP3bDUV8z1R"
      },
      "outputs": [],
      "source": []
    }
  ],
  "metadata": {
    "kernelspec": {
      "display_name": "lighting",
      "language": "python",
      "name": "python3"
    },
    "language_info": {
      "codemirror_mode": {
        "name": "ipython",
        "version": 3
      },
      "file_extension": ".py",
      "mimetype": "text/x-python",
      "name": "python",
      "nbconvert_exporter": "python",
      "pygments_lexer": "ipython3",
      "version": "3.8.18"
    },
    "colab": {
      "provenance": [],
      "include_colab_link": true
    }
  },
  "nbformat": 4,
  "nbformat_minor": 0
}