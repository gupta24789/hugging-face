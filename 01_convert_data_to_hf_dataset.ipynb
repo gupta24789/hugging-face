{
  "cells": [
    {
      "cell_type": "markdown",
      "metadata": {
        "id": "view-in-github",
        "colab_type": "text"
      },
      "source": [
        "<a href=\"https://colab.research.google.com/github/gupta24789/hugging-face/blob/main/01_convert_data_to_hf_dataset.ipynb\" target=\"_parent\"><img src=\"https://colab.research.google.com/assets/colab-badge.svg\" alt=\"Open In Colab\"/></a>"
      ]
    },
    {
      "cell_type": "markdown",
      "metadata": {
        "id": "DiemcqsyVB6M"
      },
      "source": [
        "### Objective\n",
        "\n",
        "\n",
        "In this notebook we will cover below things\n",
        "- How to convert any data to hugging face data\n",
        "- How to load the data using hugging face methods\n",
        "\n",
        "\n",
        "There are two kind of datasets\n",
        "1. Datasets\n",
        "2. IteratableDatasets : useful for big data, fetch the data in chunks\n",
        "\n",
        "\n",
        "\n",
        "#### Mostly used arguments of load_dataset functions\n",
        "```\n",
        "path: str,\n",
        "name: Union[str, NoneType] = None,\n",
        "data_dir: path of data directory,\n",
        "data_files: you can provide path of one or multiple file. If data_dir is None then provide the complete filepath otherwise filename will work. This will also accepts the dict object\n",
        "split: represents the train, val test split\n",
        "features: Feature class object which is having data type infomation,\n",
        "streaming: convert dataset to iterable dataset\n",
        "num_proc: number of processes for parallel processing\n",
        "```"
      ]
    },
    {
      "cell_type": "code",
      "execution_count": null,
      "metadata": {
        "id": "lxGsjv87VB6Q"
      },
      "outputs": [],
      "source": [
        "import pandas as pd\n",
        "from datasets import Dataset, load_dataset\n",
        "from datasets import ClassLabel, Features, Value, DatasetDict"
      ]
    },
    {
      "cell_type": "markdown",
      "metadata": {
        "id": "AjWMRXe-VB6S"
      },
      "source": [
        "## Convert pandas dataframe to hf dataset"
      ]
    },
    {
      "cell_type": "code",
      "execution_count": null,
      "metadata": {
        "id": "V_FYVsGsVB6T",
        "outputId": "c70885a6-502f-4d90-a8af-a14b359eda43"
      },
      "outputs": [
        {
          "data": {
            "text/plain": [
              "((8004, 2), (2000, 2))"
            ]
          },
          "execution_count": 2,
          "metadata": {},
          "output_type": "execute_result"
        }
      ],
      "source": [
        "train_df = pd.read_csv(\"data/train.csv\")\n",
        "test_df = pd.read_csv(\"data/val.csv\")\n",
        "train_df.shape, test_df.shape"
      ]
    },
    {
      "cell_type": "code",
      "execution_count": null,
      "metadata": {
        "id": "r7n4dIQVVB6V",
        "outputId": "a3c8af10-c9bb-4df5-dc18-1ce793f4142f"
      },
      "outputs": [
        {
          "data": {
            "text/html": [
              "<div>\n",
              "<style scoped>\n",
              "    .dataframe tbody tr th:only-of-type {\n",
              "        vertical-align: middle;\n",
              "    }\n",
              "\n",
              "    .dataframe tbody tr th {\n",
              "        vertical-align: top;\n",
              "    }\n",
              "\n",
              "    .dataframe thead th {\n",
              "        text-align: right;\n",
              "    }\n",
              "</style>\n",
              "<table border=\"1\" class=\"dataframe\">\n",
              "  <thead>\n",
              "    <tr style=\"text-align: right;\">\n",
              "      <th></th>\n",
              "      <th>raw_tweet</th>\n",
              "      <th>label</th>\n",
              "    </tr>\n",
              "  </thead>\n",
              "  <tbody>\n",
              "    <tr>\n",
              "      <th>0</th>\n",
              "      <td>Want to say a huge thanks to @WarriorAssaultS ...</td>\n",
              "      <td>1.0</td>\n",
              "    </tr>\n",
              "    <tr>\n",
              "      <th>1</th>\n",
              "      <td>@jaynehh_ you just need a job and get a letter...</td>\n",
              "      <td>1.0</td>\n",
              "    </tr>\n",
              "    <tr>\n",
              "      <th>2</th>\n",
              "      <td>@knhillrocks HA yes, make it quick tho :D</td>\n",
              "      <td>1.0</td>\n",
              "    </tr>\n",
              "  </tbody>\n",
              "</table>\n",
              "</div>"
            ],
            "text/plain": [
              "                                           raw_tweet  label\n",
              "0  Want to say a huge thanks to @WarriorAssaultS ...    1.0\n",
              "1  @jaynehh_ you just need a job and get a letter...    1.0\n",
              "2          @knhillrocks HA yes, make it quick tho :D    1.0"
            ]
          },
          "execution_count": 3,
          "metadata": {},
          "output_type": "execute_result"
        }
      ],
      "source": [
        "train_df.head(3)"
      ]
    },
    {
      "cell_type": "code",
      "execution_count": null,
      "metadata": {
        "id": "sMYr-HqaVB6W",
        "outputId": "ddafcca6-9dd1-4254-dec2-18e9d77b5276"
      },
      "outputs": [
        {
          "data": {
            "text/html": [
              "<div>\n",
              "<style scoped>\n",
              "    .dataframe tbody tr th:only-of-type {\n",
              "        vertical-align: middle;\n",
              "    }\n",
              "\n",
              "    .dataframe tbody tr th {\n",
              "        vertical-align: top;\n",
              "    }\n",
              "\n",
              "    .dataframe thead th {\n",
              "        text-align: right;\n",
              "    }\n",
              "</style>\n",
              "<table border=\"1\" class=\"dataframe\">\n",
              "  <thead>\n",
              "    <tr style=\"text-align: right;\">\n",
              "      <th></th>\n",
              "      <th>raw_tweet</th>\n",
              "      <th>label</th>\n",
              "    </tr>\n",
              "  </thead>\n",
              "  <tbody>\n",
              "    <tr>\n",
              "      <th>0</th>\n",
              "      <td>buuuuuuuut oh well :-)</td>\n",
              "      <td>1</td>\n",
              "    </tr>\n",
              "    <tr>\n",
              "      <th>1</th>\n",
              "      <td>The four o'clock coffee habit. :-)</td>\n",
              "      <td>1</td>\n",
              "    </tr>\n",
              "    <tr>\n",
              "      <th>2</th>\n",
              "      <td>@lewisssrg92 bet you do! Well I won't be getti...</td>\n",
              "      <td>1</td>\n",
              "    </tr>\n",
              "  </tbody>\n",
              "</table>\n",
              "</div>"
            ],
            "text/plain": [
              "                                           raw_tweet  label\n",
              "0                             buuuuuuuut oh well :-)      1\n",
              "1                 The four o'clock coffee habit. :-)      1\n",
              "2  @lewisssrg92 bet you do! Well I won't be getti...      1"
            ]
          },
          "execution_count": 4,
          "metadata": {},
          "output_type": "execute_result"
        }
      ],
      "source": [
        "test_df.head(3)"
      ]
    },
    {
      "cell_type": "code",
      "execution_count": null,
      "metadata": {
        "id": "E-62NcqvVB6X",
        "outputId": "bdbd673e-e676-49ff-a577-d2c91cdd2a4a"
      },
      "outputs": [
        {
          "name": "stdout",
          "output_type": "stream",
          "text": [
            "Train :  Dataset({\n",
            "    features: ['raw_tweet', 'label'],\n",
            "    num_rows: 8004\n",
            "})\n",
            "Test :  Dataset({\n",
            "    features: ['raw_tweet', 'label'],\n",
            "    num_rows: 2000\n",
            "})\n",
            "\n",
            "\n",
            "Train Features:  {'raw_tweet': Value(dtype='string', id=None), 'label': Value(dtype='float64', id=None)}\n",
            "Test Features:  {'raw_tweet': Value(dtype='string', id=None), 'label': Value(dtype='int64', id=None)}\n"
          ]
        }
      ],
      "source": [
        "## hf dataset\n",
        "train_ds = Dataset.from_pandas(train_df, split='train')\n",
        "test_ds = Dataset.from_pandas(test_df, split='test')\n",
        "\n",
        "print(\"Train : \", train_ds)\n",
        "print(\"Test : \", test_ds)\n",
        "print(\"\\n\")\n",
        "print(\"Train Features: \", train_ds.features)\n",
        "print(\"Test Features: \", test_ds.features)"
      ]
    },
    {
      "cell_type": "code",
      "execution_count": null,
      "metadata": {
        "id": "XOl1nlrWVB6X",
        "outputId": "86ad23b0-ad80-4167-a9c9-f9d3f09ceaf9"
      },
      "outputs": [
        {
          "name": "stdout",
          "output_type": "stream",
          "text": [
            "Train :  Dataset({\n",
            "    features: ['raw_tweet', 'label'],\n",
            "    num_rows: 8004\n",
            "})\n",
            "Test :  Dataset({\n",
            "    features: ['raw_tweet', 'label'],\n",
            "    num_rows: 2000\n",
            "})\n",
            "\n",
            "\n",
            "Train Features:  {'raw_tweet': Value(dtype='string', id=None), 'label': ClassLabel(names=[0, 1], id=None)}\n",
            "Test Features:  {'raw_tweet': Value(dtype='string', id=None), 'label': ClassLabel(names=[0, 1], id=None)}\n"
          ]
        }
      ],
      "source": [
        "## As you can see above features(dtype) of train & test is not same\n",
        "## mannually define the featues\n",
        "features = Features({\"raw_tweet\": Value(dtype= \"string\"), \"label\": ClassLabel(num_classes=2, names=[0,1])})\n",
        "train_ds = Dataset.from_pandas(train_df, split='train', features= features)\n",
        "test_ds = Dataset.from_pandas(test_df, split='test', features= features)\n",
        "\n",
        "print(\"Train : \", train_ds)\n",
        "print(\"Test : \", test_ds)\n",
        "print(\"\\n\")\n",
        "print(\"Train Features: \", train_ds.features)\n",
        "print(\"Test Features: \", test_ds.features)"
      ]
    },
    {
      "cell_type": "code",
      "execution_count": null,
      "metadata": {
        "id": "3HLWugKDVB6Y",
        "outputId": "70e22ff9-9dc0-4dc7-800e-429e15e9935e"
      },
      "outputs": [
        {
          "name": "stdout",
          "output_type": "stream",
          "text": [
            "DatasetDict({\n",
            "    train: Dataset({\n",
            "        features: ['raw_tweet', 'label'],\n",
            "        num_rows: 8004\n",
            "    })\n",
            "    test: Dataset({\n",
            "        features: ['raw_tweet', 'label'],\n",
            "        num_rows: 2000\n",
            "    })\n",
            "})\n"
          ]
        }
      ],
      "source": [
        "## combine train and test\n",
        "data = DatasetDict({\n",
        "    \"train\":  train_ds,\n",
        "    \"test\": test_ds\n",
        "})\n",
        "\n",
        "print(data)"
      ]
    },
    {
      "cell_type": "markdown",
      "metadata": {
        "id": "86hyph9iVB6Z"
      },
      "source": [
        "## Load csv data using hf dataset"
      ]
    },
    {
      "cell_type": "code",
      "execution_count": null,
      "metadata": {
        "id": "LAlXPDEVVB6Z",
        "outputId": "aa118abc-c3a1-4bfa-ae84-81af66f3a3f5"
      },
      "outputs": [
        {
          "data": {
            "text/plain": [
              "DatasetDict({\n",
              "    train: Dataset({\n",
              "        features: ['raw_tweet', 'label'],\n",
              "        num_rows: 10004\n",
              "    })\n",
              "})"
            ]
          },
          "execution_count": 20,
          "metadata": {},
          "output_type": "execute_result"
        }
      ],
      "source": [
        "## Pass multiple files in datafiles as part of same data\n",
        "data = load_dataset(\"csv\", data_files= [\"data/train.csv\",\"data/val.csv\"])\n",
        "data"
      ]
    },
    {
      "cell_type": "code",
      "execution_count": null,
      "metadata": {
        "id": "DaNCeRLOVB6a",
        "outputId": "fe3dda45-9d73-4610-ecae-47b4162cb9cd"
      },
      "outputs": [
        {
          "data": {
            "text/plain": [
              "DatasetDict({\n",
              "    train: Dataset({\n",
              "        features: ['raw_tweet', 'label'],\n",
              "        num_rows: 8004\n",
              "    })\n",
              "    test: Dataset({\n",
              "        features: ['raw_tweet', 'label'],\n",
              "        num_rows: 2000\n",
              "    })\n",
              "})"
            ]
          },
          "execution_count": 21,
          "metadata": {},
          "output_type": "execute_result"
        }
      ],
      "source": [
        "## Load train and test data\n",
        "data = load_dataset(\"csv\", data_files = {\"train\" :  \"data/train.csv\", \"test\": \"data/val.csv\"})\n",
        "data"
      ]
    },
    {
      "cell_type": "code",
      "execution_count": null,
      "metadata": {
        "id": "9Jd5kQC9VB6b",
        "outputId": "84506ffd-1e0b-477d-e5d0-521166fabfcf"
      },
      "outputs": [
        {
          "data": {
            "text/plain": [
              "DatasetDict({\n",
              "    train: Dataset({\n",
              "        features: ['raw_tweet', 'label'],\n",
              "        num_rows: 8004\n",
              "    })\n",
              "    test: Dataset({\n",
              "        features: ['raw_tweet', 'label'],\n",
              "        num_rows: 2000\n",
              "    })\n",
              "})"
            ]
          },
          "execution_count": 22,
          "metadata": {},
          "output_type": "execute_result"
        }
      ],
      "source": [
        "## files as dict of list\n",
        "data = load_dataset(\"csv\", data_files = {\"train\" :  [\"data/train.csv\"], \"test\": \"data/val.csv\"})\n",
        "data"
      ]
    },
    {
      "cell_type": "code",
      "execution_count": null,
      "metadata": {
        "id": "N9nfRcV5VB6c",
        "outputId": "d8c4a1df-14b0-4949-864c-0672deff2d24",
        "colab": {
          "referenced_widgets": [
            "7f79a854b11b4dbca59d636e152f8c27",
            "e65278f788ef47e9a2320f25ec364da7"
          ]
        }
      },
      "outputs": [
        {
          "data": {
            "application/vnd.jupyter.widget-view+json": {
              "model_id": "7f79a854b11b4dbca59d636e152f8c27",
              "version_major": 2,
              "version_minor": 0
            },
            "text/plain": [
              "Generating train split: 0 examples [00:00, ? examples/s]"
            ]
          },
          "metadata": {},
          "output_type": "display_data"
        },
        {
          "data": {
            "application/vnd.jupyter.widget-view+json": {
              "model_id": "e65278f788ef47e9a2320f25ec364da7",
              "version_major": 2,
              "version_minor": 0
            },
            "text/plain": [
              "Generating test split: 0 examples [00:00, ? examples/s]"
            ]
          },
          "metadata": {},
          "output_type": "display_data"
        },
        {
          "data": {
            "text/plain": [
              "DatasetDict({\n",
              "    train: Dataset({\n",
              "        features: ['raw_tweet', 'label'],\n",
              "        num_rows: 8004\n",
              "    })\n",
              "    test: Dataset({\n",
              "        features: ['raw_tweet', 'label'],\n",
              "        num_rows: 2000\n",
              "    })\n",
              "})"
            ]
          },
          "execution_count": 54,
          "metadata": {},
          "output_type": "execute_result"
        }
      ],
      "source": [
        "## Another way to read the above data\n",
        "data = load_dataset(\"csv\", data_dir = \"data\", data_files = {\"train\" :  [\"train.csv\"], \"test\": \"val.csv\"}, delimiter=\",\", column_names = None)\n",
        "data"
      ]
    },
    {
      "cell_type": "markdown",
      "metadata": {
        "id": "AiLMsD_3VB6c"
      },
      "source": [
        "## Load text data using hf dataset"
      ]
    },
    {
      "cell_type": "code",
      "execution_count": null,
      "metadata": {
        "id": "FGSG94_5VB6d",
        "outputId": "6dd256d3-d9ff-48ad-cced-9a38e585e551"
      },
      "outputs": [
        {
          "data": {
            "text/plain": [
              "DatasetDict({\n",
              "    train: Dataset({\n",
              "        features: ['text'],\n",
              "        num_rows: 16000\n",
              "    })\n",
              "    test: Dataset({\n",
              "        features: ['text'],\n",
              "        num_rows: 2000\n",
              "    })\n",
              "})"
            ]
          },
          "execution_count": 53,
          "metadata": {},
          "output_type": "execute_result"
        }
      ],
      "source": [
        "class_names = [\"sadness\", \"joy\", \"love\", \"anger\", \"fear\", \"surprise\"]\n",
        "data = load_dataset(\"text\", data_dir = \"data\", data_files = {\"train\" :  \"train.txt\", \"test\": \"val.txt\"})\n",
        "data"
      ]
    },
    {
      "cell_type": "code",
      "execution_count": null,
      "metadata": {
        "id": "DRSeUVf9VB6d",
        "outputId": "dc1a495c-1648-4964-bb3a-2180cafdf771"
      },
      "outputs": [
        {
          "data": {
            "text/plain": [
              "{'text': 'i didnt feel humiliated;sadness'}"
            ]
          },
          "execution_count": 25,
          "metadata": {},
          "output_type": "execute_result"
        }
      ],
      "source": [
        "data['train'][0]"
      ]
    },
    {
      "cell_type": "markdown",
      "metadata": {
        "id": "94_Ytrs7VB6d"
      },
      "source": [
        "## Load json data using hf dataset"
      ]
    },
    {
      "cell_type": "code",
      "execution_count": null,
      "metadata": {
        "id": "RJ6MBfYZVB6e",
        "outputId": "0d9e83f3-18b7-409c-f6e1-cd5be17852e1"
      },
      "outputs": [
        {
          "data": {
            "text/plain": [
              "DatasetDict({\n",
              "    train: Dataset({\n",
              "        features: ['raw_tweet', 'label'],\n",
              "        num_rows: 8004\n",
              "    })\n",
              "    test: Dataset({\n",
              "        features: ['raw_tweet', 'label'],\n",
              "        num_rows: 2000\n",
              "    })\n",
              "})"
            ]
          },
          "execution_count": 42,
          "metadata": {},
          "output_type": "execute_result"
        }
      ],
      "source": [
        "data = load_dataset(path = \"json\", data_dir= \"data\", data_files={\"train\": \"train.json\", \"test\":\"test.json\"})\n",
        "data"
      ]
    },
    {
      "cell_type": "code",
      "execution_count": null,
      "metadata": {
        "id": "nUXp1hcWVB6e",
        "outputId": "8cd8d3a1-0c34-472a-ec61-7cd1abd2ebbe"
      },
      "outputs": [
        {
          "data": {
            "text/plain": [
              "{'raw_tweet': Value(dtype='string', id=None),\n",
              " 'label': Value(dtype='float64', id=None)}"
            ]
          },
          "execution_count": 43,
          "metadata": {},
          "output_type": "execute_result"
        }
      ],
      "source": [
        "data['train'].features"
      ]
    },
    {
      "cell_type": "code",
      "execution_count": null,
      "metadata": {
        "id": "hzimAzJzVB6f",
        "outputId": "4a429836-9817-4284-9e72-8d31e50bafd2"
      },
      "outputs": [
        {
          "data": {
            "text/plain": [
              "{'raw_tweet': Value(dtype='string', id=None),\n",
              " 'label': Value(dtype='float64', id=None)}"
            ]
          },
          "execution_count": 44,
          "metadata": {},
          "output_type": "execute_result"
        }
      ],
      "source": [
        "data['test'].features"
      ]
    },
    {
      "cell_type": "markdown",
      "metadata": {
        "id": "HaBXYrodVB6f"
      },
      "source": [
        "## Load pickle data using hf dataset"
      ]
    },
    {
      "cell_type": "code",
      "execution_count": null,
      "metadata": {
        "id": "VinyVYzLVB6f",
        "outputId": "4720daba-e718-41b1-bf9a-187a8788e078",
        "colab": {
          "referenced_widgets": [
            "599a8746938e4d40b874a804c5f0f5ac",
            "29d3330f139e47db8747b0f20ee37bf6"
          ]
        }
      },
      "outputs": [
        {
          "data": {
            "application/vnd.jupyter.widget-view+json": {
              "model_id": "599a8746938e4d40b874a804c5f0f5ac",
              "version_major": 2,
              "version_minor": 0
            },
            "text/plain": [
              "Generating train split: 0 examples [00:00, ? examples/s]"
            ]
          },
          "metadata": {},
          "output_type": "display_data"
        },
        {
          "data": {
            "application/vnd.jupyter.widget-view+json": {
              "model_id": "29d3330f139e47db8747b0f20ee37bf6",
              "version_major": 2,
              "version_minor": 0
            },
            "text/plain": [
              "Generating test split: 0 examples [00:00, ? examples/s]"
            ]
          },
          "metadata": {},
          "output_type": "display_data"
        },
        {
          "data": {
            "text/plain": [
              "DatasetDict({\n",
              "    train: Dataset({\n",
              "        features: ['raw_tweet', 'label'],\n",
              "        num_rows: 8004\n",
              "    })\n",
              "    test: Dataset({\n",
              "        features: ['raw_tweet', 'label'],\n",
              "        num_rows: 2000\n",
              "    })\n",
              "})"
            ]
          },
          "execution_count": 45,
          "metadata": {},
          "output_type": "execute_result"
        }
      ],
      "source": [
        "data = load_dataset(path = \"pandas\", data_dir= \"data\", data_files={\"train\": \"train.pkl\", \"test\":\"test.pkl\"})\n",
        "data"
      ]
    },
    {
      "cell_type": "markdown",
      "metadata": {
        "id": "2AirEgB4VB6g"
      },
      "source": [
        "## from dict to hf dataset"
      ]
    },
    {
      "cell_type": "code",
      "execution_count": null,
      "metadata": {
        "id": "gjeq5TcSVB6g"
      },
      "outputs": [],
      "source": [
        "my_dict = {'id': [0, 1, 2],\n",
        "           'name': ['mary', 'bob', 'eve'],\n",
        "           'age': [24, 53, 19]}"
      ]
    },
    {
      "cell_type": "code",
      "execution_count": null,
      "metadata": {
        "id": "kTx_ld2uVB6g",
        "outputId": "f3ba981a-47af-4e9d-b37c-553f2e3421d2"
      },
      "outputs": [
        {
          "data": {
            "text/plain": [
              "Dataset({\n",
              "    features: ['id', 'name', 'age'],\n",
              "    num_rows: 3\n",
              "})"
            ]
          },
          "execution_count": 56,
          "metadata": {},
          "output_type": "execute_result"
        }
      ],
      "source": [
        "dataset = Dataset.from_dict(my_dict)\n",
        "dataset"
      ]
    },
    {
      "cell_type": "markdown",
      "metadata": {
        "id": "MxYyG1cqVB6h"
      },
      "source": [
        "## Dataset vs IterableDataset\n"
      ]
    },
    {
      "cell_type": "code",
      "execution_count": null,
      "metadata": {
        "id": "EndYx3A-VB6h",
        "outputId": "6683eb3e-dce1-4201-aa70-71e702b50caa"
      },
      "outputs": [
        {
          "data": {
            "text/plain": [
              "DatasetDict({\n",
              "    train: Dataset({\n",
              "        features: ['raw_tweet', 'label'],\n",
              "        num_rows: 8004\n",
              "    })\n",
              "    test: Dataset({\n",
              "        features: ['raw_tweet', 'label'],\n",
              "        num_rows: 2000\n",
              "    })\n",
              "})"
            ]
          },
          "execution_count": 57,
          "metadata": {},
          "output_type": "execute_result"
        }
      ],
      "source": [
        "## Dataset\n",
        "dataset = load_dataset(\"csv\", data_files ={\"train\": \"data/train.csv\", \"test\":\"data/val.csv\"})\n",
        "dataset"
      ]
    },
    {
      "cell_type": "code",
      "execution_count": null,
      "metadata": {
        "id": "lRxmtz4wVB6h",
        "outputId": "c65f600b-e1e7-41b9-ed8a-1d86ce15e623"
      },
      "outputs": [
        {
          "data": {
            "text/plain": [
              "{'raw_tweet': 'Want to say a huge thanks to @WarriorAssaultS @uktac @BolleSafety @Mechanix_Wear @Airtech_Studios @Hexmags #FF Thanks for the support :)',\n",
              " 'label': 1.0}"
            ]
          },
          "execution_count": 58,
          "metadata": {},
          "output_type": "execute_result"
        }
      ],
      "source": [
        "dataset['train'][0]"
      ]
    },
    {
      "cell_type": "code",
      "execution_count": null,
      "metadata": {
        "id": "32D9UPswVB6i",
        "outputId": "a5b07644-b068-494a-aaab-8c6fec9e3206"
      },
      "outputs": [
        {
          "data": {
            "text/plain": [
              "IterableDatasetDict({\n",
              "    train: IterableDataset({\n",
              "        features: ['raw_tweet', 'label'],\n",
              "        n_shards: 1\n",
              "    })\n",
              "    test: IterableDataset({\n",
              "        features: ['raw_tweet', 'label'],\n",
              "        n_shards: 1\n",
              "    })\n",
              "})"
            ]
          },
          "execution_count": 59,
          "metadata": {},
          "output_type": "execute_result"
        }
      ],
      "source": [
        "## Iterable dataset\n",
        "iter_dataset = load_dataset(\"csv\", data_files ={\"train\": \"data/train.csv\", \"test\":\"data/val.csv\"}, streaming= True)\n",
        "iter_dataset"
      ]
    },
    {
      "cell_type": "code",
      "execution_count": null,
      "metadata": {
        "id": "AXTSK50pVB6i",
        "outputId": "e278f4e5-42b1-43b2-fa2c-bb58c6836bcb"
      },
      "outputs": [
        {
          "data": {
            "text/plain": [
              "{'raw_tweet': 'Want to say a huge thanks to @WarriorAssaultS @uktac @BolleSafety @Mechanix_Wear @Airtech_Studios @Hexmags #FF Thanks for the support :)',\n",
              " 'label': 1.0}"
            ]
          },
          "execution_count": 60,
          "metadata": {},
          "output_type": "execute_result"
        }
      ],
      "source": [
        "next(iter(iter_dataset['train']))"
      ]
    },
    {
      "cell_type": "code",
      "execution_count": null,
      "metadata": {
        "id": "sgnv8MsdVB6i",
        "outputId": "fff10427-fe33-4a52-a77c-74a707260be7"
      },
      "outputs": [
        {
          "data": {
            "text/plain": [
              "{'raw_tweet': 'buuuuuuuut oh well :-)', 'label': 1.0}"
            ]
          },
          "execution_count": 61,
          "metadata": {},
          "output_type": "execute_result"
        }
      ],
      "source": [
        "next(iter(iter_dataset['test']))"
      ]
    },
    {
      "cell_type": "markdown",
      "metadata": {
        "id": "MvW18RNGVB6j"
      },
      "source": [
        "## Load data from hugging face hub"
      ]
    },
    {
      "cell_type": "code",
      "execution_count": null,
      "metadata": {
        "id": "6NHyk9eWVB6j",
        "outputId": "b36f77a5-756c-4118-f399-72d94cdf041b",
        "colab": {
          "referenced_widgets": [
            "f56663030b194f7d83558b01f5d28414",
            "cd8da04fc2664b308f75b5a8d15e8fb7",
            "630205e6d4804b8ab5f787e7813dca0b",
            "1e66fa60614b4e2eaa714ee748c23d7d",
            "aa085b75f3eb4ad5a28d01c00653b7ce"
          ]
        }
      },
      "outputs": [
        {
          "data": {
            "application/vnd.jupyter.widget-view+json": {
              "model_id": "f56663030b194f7d83558b01f5d28414",
              "version_major": 2,
              "version_minor": 0
            },
            "text/plain": [
              "Downloading readme:   0%|          | 0.00/7.83k [00:00<?, ?B/s]"
            ]
          },
          "metadata": {},
          "output_type": "display_data"
        },
        {
          "data": {
            "application/vnd.jupyter.widget-view+json": {
              "model_id": "cd8da04fc2664b308f75b5a8d15e8fb7",
              "version_major": 2,
              "version_minor": 0
            },
            "text/plain": [
              "Downloading data:   0%|          | 0.00/14.5M [00:00<?, ?B/s]"
            ]
          },
          "metadata": {},
          "output_type": "display_data"
        },
        {
          "data": {
            "application/vnd.jupyter.widget-view+json": {
              "model_id": "630205e6d4804b8ab5f787e7813dca0b",
              "version_major": 2,
              "version_minor": 0
            },
            "text/plain": [
              "Downloading data:   0%|          | 0.00/1.82M [00:00<?, ?B/s]"
            ]
          },
          "metadata": {},
          "output_type": "display_data"
        },
        {
          "data": {
            "application/vnd.jupyter.widget-view+json": {
              "model_id": "1e66fa60614b4e2eaa714ee748c23d7d",
              "version_major": 2,
              "version_minor": 0
            },
            "text/plain": [
              "Generating train split:   0%|          | 0/87599 [00:00<?, ? examples/s]"
            ]
          },
          "metadata": {},
          "output_type": "display_data"
        },
        {
          "data": {
            "application/vnd.jupyter.widget-view+json": {
              "model_id": "aa085b75f3eb4ad5a28d01c00653b7ce",
              "version_major": 2,
              "version_minor": 0
            },
            "text/plain": [
              "Generating validation split:   0%|          | 0/10570 [00:00<?, ? examples/s]"
            ]
          },
          "metadata": {},
          "output_type": "display_data"
        },
        {
          "data": {
            "text/plain": [
              "Dataset({\n",
              "    features: ['id', 'title', 'context', 'question', 'answers'],\n",
              "    num_rows: 87599\n",
              "})"
            ]
          },
          "execution_count": 62,
          "metadata": {},
          "output_type": "execute_result"
        }
      ],
      "source": [
        "dataset = load_dataset('squad', split='train')\n",
        "dataset"
      ]
    },
    {
      "cell_type": "code",
      "execution_count": null,
      "metadata": {
        "id": "oTjf1JNpVB6j",
        "outputId": "5a75da8d-68a9-4815-96de-5420eee17172"
      },
      "outputs": [
        {
          "data": {
            "text/plain": [
              "{'id': '5733be284776f41900661182',\n",
              " 'title': 'University_of_Notre_Dame',\n",
              " 'context': 'Architecturally, the school has a Catholic character. Atop the Main Building\\'s gold dome is a golden statue of the Virgin Mary. Immediately in front of the Main Building and facing it, is a copper statue of Christ with arms upraised with the legend \"Venite Ad Me Omnes\". Next to the Main Building is the Basilica of the Sacred Heart. Immediately behind the basilica is the Grotto, a Marian place of prayer and reflection. It is a replica of the grotto at Lourdes, France where the Virgin Mary reputedly appeared to Saint Bernadette Soubirous in 1858. At the end of the main drive (and in a direct line that connects through 3 statues and the Gold Dome), is a simple, modern stone statue of Mary.',\n",
              " 'question': 'To whom did the Virgin Mary allegedly appear in 1858 in Lourdes France?',\n",
              " 'answers': {'text': ['Saint Bernadette Soubirous'], 'answer_start': [515]}}"
            ]
          },
          "execution_count": 64,
          "metadata": {},
          "output_type": "execute_result"
        }
      ],
      "source": [
        "dataset[0]"
      ]
    },
    {
      "cell_type": "code",
      "execution_count": null,
      "metadata": {
        "id": "eooSXp4hVB6k"
      },
      "outputs": [],
      "source": []
    }
  ],
  "metadata": {
    "kernelspec": {
      "display_name": "lighting",
      "language": "python",
      "name": "python3"
    },
    "language_info": {
      "codemirror_mode": {
        "name": "ipython",
        "version": 3
      },
      "file_extension": ".py",
      "mimetype": "text/x-python",
      "name": "python",
      "nbconvert_exporter": "python",
      "pygments_lexer": "ipython3",
      "version": "3.8.18"
    },
    "colab": {
      "provenance": [],
      "include_colab_link": true
    }
  },
  "nbformat": 4,
  "nbformat_minor": 0
}