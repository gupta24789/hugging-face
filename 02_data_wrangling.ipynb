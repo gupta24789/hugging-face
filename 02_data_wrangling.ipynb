{
  "cells": [
    {
      "cell_type": "markdown",
      "metadata": {
        "id": "view-in-github",
        "colab_type": "text"
      },
      "source": [
        "<a href=\"https://colab.research.google.com/github/gupta24789/hugging-face/blob/main/02_data_wrangling.ipynb\" target=\"_parent\"><img src=\"https://colab.research.google.com/assets/colab-badge.svg\" alt=\"Open In Colab\"/></a>"
      ]
    },
    {
      "cell_type": "code",
      "execution_count": null,
      "metadata": {
        "id": "cyhR-ufzVPYp"
      },
      "outputs": [],
      "source": [
        "from datasets import load_dataset"
      ]
    },
    {
      "cell_type": "code",
      "execution_count": null,
      "metadata": {
        "id": "cn4uBQ2oVPYq",
        "outputId": "98ed42e9-8af9-4f7e-d4c7-18a3bf6b92a1"
      },
      "outputs": [
        {
          "data": {
            "text/plain": [
              "DatasetDict({\n",
              "    train: Dataset({\n",
              "        features: ['raw_tweet', 'label'],\n",
              "        num_rows: 8004\n",
              "    })\n",
              "    test: Dataset({\n",
              "        features: ['raw_tweet', 'label'],\n",
              "        num_rows: 2000\n",
              "    })\n",
              "})"
            ]
          },
          "execution_count": 2,
          "metadata": {},
          "output_type": "execute_result"
        }
      ],
      "source": [
        "## Load dataset\n",
        "dataset = load_dataset(\"csv\", data_dir = \"data\", data_files = {\"train\": \"train.csv\", \"test\": \"val.csv\"})\n",
        "dataset"
      ]
    },
    {
      "cell_type": "code",
      "execution_count": null,
      "metadata": {
        "id": "B4Yl_wScVPYr",
        "outputId": "d52e680c-5829-4150-ddb9-c1466012fe0b"
      },
      "outputs": [
        {
          "data": {
            "text/html": [
              "<div>\n",
              "<style scoped>\n",
              "    .dataframe tbody tr th:only-of-type {\n",
              "        vertical-align: middle;\n",
              "    }\n",
              "\n",
              "    .dataframe tbody tr th {\n",
              "        vertical-align: top;\n",
              "    }\n",
              "\n",
              "    .dataframe thead th {\n",
              "        text-align: right;\n",
              "    }\n",
              "</style>\n",
              "<table border=\"1\" class=\"dataframe\">\n",
              "  <thead>\n",
              "    <tr style=\"text-align: right;\">\n",
              "      <th></th>\n",
              "      <th>raw_tweet</th>\n",
              "      <th>label</th>\n",
              "    </tr>\n",
              "  </thead>\n",
              "  <tbody>\n",
              "    <tr>\n",
              "      <th>7071</th>\n",
              "      <td>@MotorsportCntrl @GP2_Official so true! This w...</td>\n",
              "      <td>0.0</td>\n",
              "    </tr>\n",
              "    <tr>\n",
              "      <th>1407</th>\n",
              "      <td>#Friday's here!!  Give us a call today for all...</td>\n",
              "      <td>1.0</td>\n",
              "    </tr>\n",
              "    <tr>\n",
              "      <th>1045</th>\n",
              "      <td>@ArianeBeeston Communal knowledge! :)</td>\n",
              "      <td>1.0</td>\n",
              "    </tr>\n",
              "    <tr>\n",
              "      <th>724</th>\n",
              "      <td>@TisoyPeter  follow @jnlazts &amp;amp; http://t.co...</td>\n",
              "      <td>1.0</td>\n",
              "    </tr>\n",
              "    <tr>\n",
              "      <th>3116</th>\n",
              "      <td>I kinda wanna fangirl over not an apology agai...</td>\n",
              "      <td>1.0</td>\n",
              "    </tr>\n",
              "    <tr>\n",
              "      <th>4956</th>\n",
              "      <td>All is fair in love and war kapan update :(\\n\\...</td>\n",
              "      <td>0.0</td>\n",
              "    </tr>\n",
              "  </tbody>\n",
              "</table>\n",
              "</div>"
            ],
            "text/plain": [
              "                                              raw_tweet  label\n",
              "7071  @MotorsportCntrl @GP2_Official so true! This w...    0.0\n",
              "1407  #Friday's here!!  Give us a call today for all...    1.0\n",
              "1045              @ArianeBeeston Communal knowledge! :)    1.0\n",
              "724   @TisoyPeter  follow @jnlazts &amp; http://t.co...    1.0\n",
              "3116  I kinda wanna fangirl over not an apology agai...    1.0\n",
              "4956  All is fair in love and war kapan update :(\\n\\...    0.0"
            ]
          },
          "execution_count": 3,
          "metadata": {},
          "output_type": "execute_result"
        }
      ],
      "source": [
        "## Convert data to pandas df\n",
        "sample_df = dataset['train'].to_pandas().sample(6)\n",
        "sample_df"
      ]
    },
    {
      "cell_type": "markdown",
      "metadata": {
        "id": "OQnLtxSIVPYs"
      },
      "source": [
        "## Visualize map functions"
      ]
    },
    {
      "cell_type": "code",
      "execution_count": null,
      "metadata": {
        "id": "gPauA0xtVPYt",
        "outputId": "87a555c4-833f-4d8c-bf70-ea166b4c8f41"
      },
      "outputs": [
        {
          "data": {
            "text/plain": [
              "Dataset({\n",
              "    features: ['raw_tweet', 'label'],\n",
              "    num_rows: 10\n",
              "})"
            ]
          },
          "execution_count": 4,
          "metadata": {},
          "output_type": "execute_result"
        }
      ],
      "source": [
        "sample_data = dataset['train'].shuffle(seed = 42).select(range(10))\n",
        "sample_data"
      ]
    },
    {
      "cell_type": "code",
      "execution_count": null,
      "metadata": {
        "id": "iQNXLD7jVPYt",
        "outputId": "297de3b9-2f16-448d-9866-64ae517868ab",
        "colab": {
          "referenced_widgets": [
            "ba41a8cced9742c1bc04271ee44b67b6"
          ]
        }
      },
      "outputs": [
        {
          "data": {
            "application/vnd.jupyter.widget-view+json": {
              "model_id": "ba41a8cced9742c1bc04271ee44b67b6",
              "version_major": 2,
              "version_minor": 0
            },
            "text/plain": [
              "Map:   0%|          | 0/10 [00:00<?, ? examples/s]"
            ]
          },
          "metadata": {},
          "output_type": "display_data"
        },
        {
          "name": "stdout",
          "output_type": "stream",
          "text": [
            "{'raw_tweet': 'im sending Alex like a million pictures :)', 'label': 1.0}\n",
            "{'raw_tweet': '#TURKEY ARE NOW #BOMBING #ISIS IN #SYRIA,AND ALLOW THE #USA TO USE ONE OF IT #AIRFIELDS FOR THEIR #JETS :()', 'label': 0.0}\n",
            "{'raw_tweet': 'No drop home for me today :(', 'label': 0.0}\n",
            "{'raw_tweet': 'There are startup community in the tropics too! Geeks on the beach :) #startupPH https://t.co/Bg4SxKN3tg', 'label': 1.0}\n",
            "{'raw_tweet': '@Humna__Khan Acha Thek :p', 'label': 1.0}\n",
            "{'raw_tweet': \"i walked out of the fruit shop with LOTS of pumpkins and a guy smiled at me because it looked pretty funny, but doesn't matter, it works :)\", 'label': 1.0}\n",
            "{'raw_tweet': 'the internet is being a total bitch : (', 'label': 0.0}\n",
            "{'raw_tweet': '@mexeeN @FRSkyRRoZ spoile :)', 'label': 1.0}\n",
            "{'raw_tweet': \"My mom's a linguist. My dad's a computer scientist. And I am the dumbest one in the family :-(\", 'label': 0.0}\n",
            "{'raw_tweet': '@Uber no ice cream for me :-( #getthescoop http://t.co/NNEeBaoTVY', 'label': 0.0}\n"
          ]
        }
      ],
      "source": [
        "sample_data = sample_data.map(lambda x: print(x))"
      ]
    },
    {
      "cell_type": "markdown",
      "metadata": {
        "id": "wGhdqiDAVPYt"
      },
      "source": [
        "## Subset of data"
      ]
    },
    {
      "cell_type": "code",
      "execution_count": null,
      "metadata": {
        "id": "ndzU9PN1VPYt",
        "outputId": "035838c1-25ba-46fa-8d4f-1bf08bf666fc"
      },
      "outputs": [
        {
          "data": {
            "text/plain": [
              "Dataset({\n",
              "    features: ['raw_tweet', 'label'],\n",
              "    num_rows: 1000\n",
              "})"
            ]
          },
          "execution_count": 6,
          "metadata": {},
          "output_type": "execute_result"
        }
      ],
      "source": [
        "sample_data = dataset['train'].shuffle(seed = 42).select(range(1000))\n",
        "sample_data"
      ]
    },
    {
      "cell_type": "markdown",
      "metadata": {
        "id": "FLYvjNYpVPYu"
      },
      "source": [
        "## rename columns"
      ]
    },
    {
      "cell_type": "code",
      "execution_count": null,
      "metadata": {
        "id": "KCDVyYElVPYu",
        "outputId": "8388918e-0769-4d6f-d085-f830c340619f"
      },
      "outputs": [
        {
          "data": {
            "text/plain": [
              "Dataset({\n",
              "    features: ['tweets', 'label'],\n",
              "    num_rows: 1000\n",
              "})"
            ]
          },
          "execution_count": 7,
          "metadata": {},
          "output_type": "execute_result"
        }
      ],
      "source": [
        "sample_data = sample_data.rename_columns({\"raw_tweet\":\"tweets\"})\n",
        "sample_data"
      ]
    },
    {
      "cell_type": "markdown",
      "metadata": {
        "id": "0Q3ckaZJVPYu"
      },
      "source": [
        "## lowercase text"
      ]
    },
    {
      "cell_type": "code",
      "execution_count": null,
      "metadata": {
        "id": "P8zAHKxXVPYu",
        "outputId": "2fb21247-df7b-4495-ef2d-eb7354aa0f6a"
      },
      "outputs": [
        {
          "data": {
            "text/plain": [
              "Dataset({\n",
              "    features: ['tweets', 'label'],\n",
              "    num_rows: 1000\n",
              "})"
            ]
          },
          "execution_count": 8,
          "metadata": {},
          "output_type": "execute_result"
        }
      ],
      "source": [
        "def lowercase_text(example):\n",
        "    return {\"tweets\": example[\"tweets\"].lower()}\n",
        "\n",
        "sample_data = sample_data.map(lowercase_text)\n",
        "sample_data"
      ]
    },
    {
      "cell_type": "markdown",
      "metadata": {
        "id": "X9jyqGKiVPYu"
      },
      "source": [
        "## create new column tweets_len"
      ]
    },
    {
      "cell_type": "code",
      "execution_count": null,
      "metadata": {
        "id": "JKDs0NwnVPYv",
        "outputId": "50004568-0779-4267-e218-5564d8ef294d"
      },
      "outputs": [
        {
          "data": {
            "text/plain": [
              "Dataset({\n",
              "    features: ['tweets', 'label', 'tweets_len'],\n",
              "    num_rows: 1000\n",
              "})"
            ]
          },
          "execution_count": 9,
          "metadata": {},
          "output_type": "execute_result"
        }
      ],
      "source": [
        "def create_tweets_len(row):\n",
        "    return {\"tweets_len\": len(row['tweets'].split(\" \"))}\n",
        "\n",
        "\n",
        "sample_data = sample_data.map(create_tweets_len)\n",
        "sample_data"
      ]
    },
    {
      "cell_type": "code",
      "execution_count": null,
      "metadata": {
        "id": "pztdWgNuVPYv",
        "outputId": "8ab90de4-7dcf-41ec-e4a9-5fbf49955316"
      },
      "outputs": [
        {
          "data": {
            "text/plain": [
              "Dataset({\n",
              "    features: ['tweets', 'label', 'tweets_len', 'new_tweets_len'],\n",
              "    num_rows: 1000\n",
              "})"
            ]
          },
          "execution_count": 10,
          "metadata": {},
          "output_type": "execute_result"
        }
      ],
      "source": [
        "## Another way to create new columns\n",
        "sample_data.map(lambda x: {'new_tweets_len': len(x['tweets'].split(\" \"))})"
      ]
    },
    {
      "cell_type": "markdown",
      "metadata": {
        "id": "kElTgBgZVPYv"
      },
      "source": [
        "## filter data"
      ]
    },
    {
      "cell_type": "code",
      "execution_count": null,
      "metadata": {
        "id": "_idV1eEhVPYv",
        "outputId": "8725c75a-a9de-4c6b-fb26-6357b4446286"
      },
      "outputs": [
        {
          "data": {
            "text/plain": [
              "Dataset({\n",
              "    features: ['tweets', 'label', 'tweets_len'],\n",
              "    num_rows: 540\n",
              "})"
            ]
          },
          "execution_count": 11,
          "metadata": {},
          "output_type": "execute_result"
        }
      ],
      "source": [
        "subdata = sample_data.filter(lambda x: x['tweets_len']>=10)\n",
        "subdata"
      ]
    },
    {
      "cell_type": "code",
      "execution_count": null,
      "metadata": {
        "id": "mBqZPxo2VPYv",
        "outputId": "eb839a1d-89ef-424d-e69f-bc76a1fba1c2"
      },
      "outputs": [
        {
          "data": {
            "text/html": [
              "<div>\n",
              "<style scoped>\n",
              "    .dataframe tbody tr th:only-of-type {\n",
              "        vertical-align: middle;\n",
              "    }\n",
              "\n",
              "    .dataframe tbody tr th {\n",
              "        vertical-align: top;\n",
              "    }\n",
              "\n",
              "    .dataframe thead th {\n",
              "        text-align: right;\n",
              "    }\n",
              "</style>\n",
              "<table border=\"1\" class=\"dataframe\">\n",
              "  <thead>\n",
              "    <tr style=\"text-align: right;\">\n",
              "      <th></th>\n",
              "      <th>tweets</th>\n",
              "      <th>label</th>\n",
              "      <th>tweets_len</th>\n",
              "    </tr>\n",
              "  </thead>\n",
              "  <tbody>\n",
              "    <tr>\n",
              "      <th>0</th>\n",
              "      <td>dudaftie...:-)\\n\\n#breaktym</td>\n",
              "      <td>1.0</td>\n",
              "      <td>1</td>\n",
              "    </tr>\n",
              "    <tr>\n",
              "      <th>1</th>\n",
              "      <td>*later :-)</td>\n",
              "      <td>1.0</td>\n",
              "      <td>2</td>\n",
              "    </tr>\n",
              "    <tr>\n",
              "      <th>2</th>\n",
              "      <td>splendour :(</td>\n",
              "      <td>0.0</td>\n",
              "      <td>2</td>\n",
              "    </tr>\n",
              "    <tr>\n",
              "      <th>3</th>\n",
              "      <td>@harryperfx fback?:)</td>\n",
              "      <td>1.0</td>\n",
              "      <td>2</td>\n",
              "    </tr>\n",
              "    <tr>\n",
              "      <th>4</th>\n",
              "      <td>over slept:):):)</td>\n",
              "      <td>1.0</td>\n",
              "      <td>2</td>\n",
              "    </tr>\n",
              "    <tr>\n",
              "      <th>5</th>\n",
              "      <td>evening :(((</td>\n",
              "      <td>0.0</td>\n",
              "      <td>2</td>\n",
              "    </tr>\n",
              "    <tr>\n",
              "      <th>6</th>\n",
              "      <td>starving :-(</td>\n",
              "      <td>0.0</td>\n",
              "      <td>2</td>\n",
              "    </tr>\n",
              "    <tr>\n",
              "      <th>7</th>\n",
              "      <td>client_amends_edit_5_final_final_final.pdf\\n\\n...</td>\n",
              "      <td>1.0</td>\n",
              "      <td>2</td>\n",
              "    </tr>\n",
              "    <tr>\n",
              "      <th>8</th>\n",
              "      <td>goodnight :)</td>\n",
              "      <td>1.0</td>\n",
              "      <td>2</td>\n",
              "    </tr>\n",
              "    <tr>\n",
              "      <th>9</th>\n",
              "      <td>crying :(\\n#pdapaghimok</td>\n",
              "      <td>0.0</td>\n",
              "      <td>2</td>\n",
              "    </tr>\n",
              "  </tbody>\n",
              "</table>\n",
              "</div>"
            ],
            "text/plain": [
              "                                              tweets  label  tweets_len\n",
              "0                        dudaftie...:-)\\n\\n#breaktym    1.0           1\n",
              "1                                         *later :-)    1.0           2\n",
              "2                                       splendour :(    0.0           2\n",
              "3                               @harryperfx fback?:)    1.0           2\n",
              "4                                   over slept:):):)    1.0           2\n",
              "5                                       evening :(((    0.0           2\n",
              "6                                       starving :-(    0.0           2\n",
              "7  client_amends_edit_5_final_final_final.pdf\\n\\n...    1.0           2\n",
              "8                                       goodnight :)    1.0           2\n",
              "9                            crying :(\\n#pdapaghimok    0.0           2"
            ]
          },
          "execution_count": 12,
          "metadata": {},
          "output_type": "execute_result"
        }
      ],
      "source": [
        "## sort data\n",
        "sample_data.sort('tweets_len').to_pandas().head(10)"
      ]
    },
    {
      "cell_type": "code",
      "execution_count": null,
      "metadata": {
        "id": "epSJGRgHVPYv",
        "outputId": "5aefbc7b-326a-4e02-9027-12a89b3814f8"
      },
      "outputs": [
        {
          "data": {
            "text/html": [
              "<div>\n",
              "<style scoped>\n",
              "    .dataframe tbody tr th:only-of-type {\n",
              "        vertical-align: middle;\n",
              "    }\n",
              "\n",
              "    .dataframe tbody tr th {\n",
              "        vertical-align: top;\n",
              "    }\n",
              "\n",
              "    .dataframe thead th {\n",
              "        text-align: right;\n",
              "    }\n",
              "</style>\n",
              "<table border=\"1\" class=\"dataframe\">\n",
              "  <thead>\n",
              "    <tr style=\"text-align: right;\">\n",
              "      <th></th>\n",
              "      <th>tweets</th>\n",
              "      <th>label</th>\n",
              "      <th>tweets_len</th>\n",
              "    </tr>\n",
              "  </thead>\n",
              "  <tbody>\n",
              "    <tr>\n",
              "      <th>0</th>\n",
              "      <td>@latersbby honey &amp;amp; brown sugar is only goo...</td>\n",
              "      <td>0.0</td>\n",
              "      <td>30</td>\n",
              "    </tr>\n",
              "    <tr>\n",
              "      <th>1</th>\n",
              "      <td>@drbabarawan u said th remedy ov pak prob z to...</td>\n",
              "      <td>0.0</td>\n",
              "      <td>30</td>\n",
              "    </tr>\n",
              "    <tr>\n",
              "      <th>2</th>\n",
              "      <td>@chruilo i have to add that to my information ...</td>\n",
              "      <td>1.0</td>\n",
              "      <td>30</td>\n",
              "    </tr>\n",
              "    <tr>\n",
              "      <th>3</th>\n",
              "      <td>the last dick pic i got was awful. it ruined w...</td>\n",
              "      <td>0.0</td>\n",
              "      <td>29</td>\n",
              "    </tr>\n",
              "    <tr>\n",
              "      <th>4</th>\n",
              "      <td>ohh :( 50 people bc it was an orchestra camp, ...</td>\n",
              "      <td>0.0</td>\n",
              "      <td>29</td>\n",
              "    </tr>\n",
              "    <tr>\n",
              "      <th>5</th>\n",
              "      <td>i walked out of the fruit shop with lots of pu...</td>\n",
              "      <td>1.0</td>\n",
              "      <td>28</td>\n",
              "    </tr>\n",
              "    <tr>\n",
              "      <th>6</th>\n",
              "      <td>@claredolotina i love dogs moar naman haha i h...</td>\n",
              "      <td>1.0</td>\n",
              "      <td>28</td>\n",
              "    </tr>\n",
              "    <tr>\n",
              "      <th>7</th>\n",
              "      <td>@cloudljp there were a lot of writings of the ...</td>\n",
              "      <td>0.0</td>\n",
              "      <td>28</td>\n",
              "    </tr>\n",
              "    <tr>\n",
              "      <th>8</th>\n",
              "      <td>@jess_lakeland sorry to hear this jess :( the ...</td>\n",
              "      <td>0.0</td>\n",
              "      <td>28</td>\n",
              "    </tr>\n",
              "    <tr>\n",
              "      <th>9</th>\n",
              "      <td>@petitemistress do it! i want to start one for...</td>\n",
              "      <td>0.0</td>\n",
              "      <td>28</td>\n",
              "    </tr>\n",
              "  </tbody>\n",
              "</table>\n",
              "</div>"
            ],
            "text/plain": [
              "                                              tweets  label  tweets_len\n",
              "0  @latersbby honey &amp; brown sugar is only goo...    0.0          30\n",
              "1  @drbabarawan u said th remedy ov pak prob z to...    0.0          30\n",
              "2  @chruilo i have to add that to my information ...    1.0          30\n",
              "3  the last dick pic i got was awful. it ruined w...    0.0          29\n",
              "4  ohh :( 50 people bc it was an orchestra camp, ...    0.0          29\n",
              "5  i walked out of the fruit shop with lots of pu...    1.0          28\n",
              "6  @claredolotina i love dogs moar naman haha i h...    1.0          28\n",
              "7  @cloudljp there were a lot of writings of the ...    0.0          28\n",
              "8  @jess_lakeland sorry to hear this jess :( the ...    0.0          28\n",
              "9  @petitemistress do it! i want to start one for...    0.0          28"
            ]
          },
          "execution_count": 13,
          "metadata": {},
          "output_type": "execute_result"
        }
      ],
      "source": [
        "sample_data.sort('tweets_len', reverse=True).to_pandas().head(10)"
      ]
    },
    {
      "cell_type": "markdown",
      "metadata": {
        "id": "2OF26PczVPYw"
      },
      "source": [
        "## create train, val, test split"
      ]
    },
    {
      "cell_type": "code",
      "execution_count": null,
      "metadata": {
        "id": "G3_r7zdTVPYw",
        "outputId": "5870cc99-6a86-46f8-b33a-c6bd4402feed"
      },
      "outputs": [
        {
          "data": {
            "text/plain": [
              "DatasetDict({\n",
              "    train: Dataset({\n",
              "        features: ['raw_tweet', 'label'],\n",
              "        num_rows: 6403\n",
              "    })\n",
              "    test: Dataset({\n",
              "        features: ['raw_tweet', 'label'],\n",
              "        num_rows: 1601\n",
              "    })\n",
              "})"
            ]
          },
          "execution_count": 14,
          "metadata": {},
          "output_type": "execute_result"
        }
      ],
      "source": [
        "drug_dataset_clean = dataset[\"train\"].train_test_split(train_size=0.8, seed=42)\n",
        "drug_dataset_clean"
      ]
    },
    {
      "cell_type": "markdown",
      "metadata": {
        "id": "JYZzD0J2VPYw"
      },
      "source": [
        "## Save to disk"
      ]
    },
    {
      "cell_type": "markdown",
      "metadata": {
        "id": "Exix5iELVPYw"
      },
      "source": [
        "Dataset.save_to_disk() => save in arrow format\n",
        "\n",
        "Dataset.to_csv() - > save in csv format\n",
        "\n",
        "Dataset.to_json() => save in json format"
      ]
    },
    {
      "cell_type": "code",
      "execution_count": null,
      "metadata": {
        "id": "Kz3LSKN9VPYw",
        "outputId": "fab97294-b998-48f8-87d9-0f7170341fe6",
        "colab": {
          "referenced_widgets": [
            "a69d5de284d8458d9c25818dfd2223c6",
            "3e93abdec1944fd4a8bf02831c4a6852"
          ]
        }
      },
      "outputs": [
        {
          "data": {
            "application/vnd.jupyter.widget-view+json": {
              "model_id": "a69d5de284d8458d9c25818dfd2223c6",
              "version_major": 2,
              "version_minor": 0
            },
            "text/plain": [
              "Saving the dataset (0/1 shards):   0%|          | 0/6403 [00:00<?, ? examples/s]"
            ]
          },
          "metadata": {},
          "output_type": "display_data"
        },
        {
          "data": {
            "application/vnd.jupyter.widget-view+json": {
              "model_id": "3e93abdec1944fd4a8bf02831c4a6852",
              "version_major": 2,
              "version_minor": 0
            },
            "text/plain": [
              "Saving the dataset (0/1 shards):   0%|          | 0/1601 [00:00<?, ? examples/s]"
            ]
          },
          "metadata": {},
          "output_type": "display_data"
        }
      ],
      "source": [
        "drug_dataset_clean.save_to_disk(\"hf-data\")"
      ]
    },
    {
      "cell_type": "markdown",
      "metadata": {
        "id": "jJ82RjHSVPYw"
      },
      "source": [
        "## Load from disk"
      ]
    },
    {
      "cell_type": "code",
      "execution_count": null,
      "metadata": {
        "id": "JMB2XI4oVPYw"
      },
      "outputs": [],
      "source": [
        "from datasets import load_from_disk"
      ]
    },
    {
      "cell_type": "code",
      "execution_count": null,
      "metadata": {
        "id": "kqy4S1s5VPYw",
        "outputId": "a4199ae9-8a42-459c-9091-c8375cfa18fa"
      },
      "outputs": [
        {
          "data": {
            "text/plain": [
              "DatasetDict({\n",
              "    train: Dataset({\n",
              "        features: ['raw_tweet', 'label'],\n",
              "        num_rows: 6403\n",
              "    })\n",
              "    test: Dataset({\n",
              "        features: ['raw_tweet', 'label'],\n",
              "        num_rows: 1601\n",
              "    })\n",
              "})"
            ]
          },
          "execution_count": 17,
          "metadata": {},
          "output_type": "execute_result"
        }
      ],
      "source": [
        "load_from_disk(\"hf-data\")"
      ]
    }
  ],
  "metadata": {
    "kernelspec": {
      "display_name": "lighting",
      "language": "python",
      "name": "python3"
    },
    "language_info": {
      "codemirror_mode": {
        "name": "ipython",
        "version": 3
      },
      "file_extension": ".py",
      "mimetype": "text/x-python",
      "name": "python",
      "nbconvert_exporter": "python",
      "pygments_lexer": "ipython3",
      "version": "3.8.18"
    },
    "colab": {
      "provenance": [],
      "include_colab_link": true
    }
  },
  "nbformat": 4,
  "nbformat_minor": 0
}