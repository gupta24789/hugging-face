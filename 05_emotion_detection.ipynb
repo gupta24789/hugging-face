{
  "cells": [
    {
      "cell_type": "markdown",
      "metadata": {
        "id": "view-in-github",
        "colab_type": "text"
      },
      "source": [
        "<a href=\"https://colab.research.google.com/github/gupta24789/hugging-face/blob/main/05_emotion_detection.ipynb\" target=\"_parent\"><img src=\"https://colab.research.google.com/assets/colab-badge.svg\" alt=\"Open In Colab\"/></a>"
      ]
    },
    {
      "cell_type": "markdown",
      "metadata": {
        "id": "3ZvkBOYhSTq-"
      },
      "source": [
        "## Multi - Class Classification"
      ]
    },
    {
      "cell_type": "code",
      "execution_count": null,
      "metadata": {
        "id": "XCVN-3lvSTq_"
      },
      "outputs": [],
      "source": [
        "!rm -rf checkpoints_logs logs mlruns"
      ]
    },
    {
      "cell_type": "code",
      "execution_count": null,
      "metadata": {
        "id": "bupvcWiJSTrA"
      },
      "outputs": [],
      "source": [
        "import os\n",
        "os.environ['CUDA_VISIBLE_DEVICES'] = \"1\"\n",
        "os.environ['TOKENIZERS_PARALLELISM'] = \"0\""
      ]
    },
    {
      "cell_type": "code",
      "execution_count": null,
      "metadata": {
        "id": "9-dGbToPSTrA"
      },
      "outputs": [],
      "source": [
        "import evaluate\n",
        "import numpy as np\n",
        "from datasets import load_dataset\n",
        "from transformers import AutoTokenizer, AutoModelForSequenceClassification, TrainingArguments, Trainer"
      ]
    },
    {
      "cell_type": "markdown",
      "metadata": {
        "id": "vG4WCyODSTrA"
      },
      "source": [
        "## Load data"
      ]
    },
    {
      "cell_type": "code",
      "execution_count": null,
      "metadata": {
        "id": "c-vNFiqHSTrB",
        "outputId": "488b3041-43d9-4d59-9cae-dd88a527d98a"
      },
      "outputs": [
        {
          "data": {
            "text/plain": [
              "DatasetDict({\n",
              "    train: Dataset({\n",
              "        features: ['text'],\n",
              "        num_rows: 16000\n",
              "    })\n",
              "    test: Dataset({\n",
              "        features: ['text'],\n",
              "        num_rows: 2000\n",
              "    })\n",
              "})"
            ]
          },
          "execution_count": 4,
          "metadata": {},
          "output_type": "execute_result"
        }
      ],
      "source": [
        "dataset = load_dataset(\"sg247/multiclass-classification\")\n",
        "dataset"
      ]
    },
    {
      "cell_type": "markdown",
      "metadata": {
        "id": "xz3oErHWSTrB"
      },
      "source": [
        "## Transform data"
      ]
    },
    {
      "cell_type": "code",
      "execution_count": null,
      "metadata": {
        "id": "T6s7Szc8STrB",
        "outputId": "4f25a518-061f-4a79-c45b-1e956b15acac"
      },
      "outputs": [
        {
          "data": {
            "text/plain": [
              "DatasetDict({\n",
              "    train: Dataset({\n",
              "        features: ['text', 'labels'],\n",
              "        num_rows: 16000\n",
              "    })\n",
              "    test: Dataset({\n",
              "        features: ['text', 'labels'],\n",
              "        num_rows: 2000\n",
              "    })\n",
              "})"
            ]
          },
          "execution_count": 5,
          "metadata": {},
          "output_type": "execute_result"
        }
      ],
      "source": [
        "dataset = dataset.map(lambda x: {\"text\" : x['text'].split(';')[0], \"labels\": x['text'].split(';')[1]})\n",
        "dataset"
      ]
    },
    {
      "cell_type": "code",
      "execution_count": null,
      "metadata": {
        "id": "vIyCFC3oSTrB",
        "outputId": "d3beceb1-871e-412c-e4f2-95819594e1cf"
      },
      "outputs": [
        {
          "data": {
            "text/plain": [
              "{'text': 'i didnt feel humiliated', 'labels': 'sadness'}"
            ]
          },
          "execution_count": 6,
          "metadata": {},
          "output_type": "execute_result"
        }
      ],
      "source": [
        "dataset['train'][0]"
      ]
    },
    {
      "cell_type": "code",
      "execution_count": null,
      "metadata": {
        "id": "0lO71ZZWSTrB",
        "outputId": "da1a0995-478e-4b9d-a5a4-dc33bbc41744"
      },
      "outputs": [
        {
          "data": {
            "text/plain": [
              "{'text': Value(dtype='string', id=None),\n",
              " 'labels': Value(dtype='string', id=None)}"
            ]
          },
          "execution_count": 7,
          "metadata": {},
          "output_type": "execute_result"
        }
      ],
      "source": [
        "dataset['train'].features"
      ]
    },
    {
      "cell_type": "code",
      "execution_count": null,
      "metadata": {
        "id": "FUmI7hufSTrB",
        "outputId": "c5aa3db5-13fe-4731-c7bb-b28835b4e177"
      },
      "outputs": [
        {
          "data": {
            "text/plain": [
              "['sadness', 'anger', 'love', 'surprise', 'fear', 'joy']"
            ]
          },
          "execution_count": 8,
          "metadata": {},
          "output_type": "execute_result"
        }
      ],
      "source": [
        "unique_labels = dataset['train'].to_pandas()['labels'].unique().tolist()\n",
        "unique_labels"
      ]
    },
    {
      "cell_type": "code",
      "execution_count": null,
      "metadata": {
        "id": "zAiX741_STrC"
      },
      "outputs": [],
      "source": [
        "## Define tokenizer\n",
        "model_name = 'albert-base-v2'\n",
        "tokenizer = AutoTokenizer.from_pretrained(model_name)"
      ]
    },
    {
      "cell_type": "code",
      "execution_count": null,
      "metadata": {
        "id": "pHwRdu6uSTrC"
      },
      "outputs": [],
      "source": [
        "id2label = dict(enumerate(unique_labels))\n",
        "label2id = {w:i for i,w in id2label.items()}"
      ]
    },
    {
      "cell_type": "code",
      "execution_count": null,
      "metadata": {
        "id": "3yyt_3tWSTrC"
      },
      "outputs": [],
      "source": [
        "def tokenized_text(row):\n",
        "    text, label = row['text'], row['labels']\n",
        "    encoded_text = tokenizer(text, padding='max_length', max_length= 50, truncation=True)\n",
        "    encoded_text['labels'] = label2id[label]\n",
        "    return encoded_text"
      ]
    },
    {
      "cell_type": "code",
      "execution_count": null,
      "metadata": {
        "id": "KHquGV-9STrC",
        "outputId": "fd0fcf69-7b3f-4cc5-fce2-f4216ff11f0a"
      },
      "outputs": [
        {
          "data": {
            "text/plain": [
              "DatasetDict({\n",
              "    train: Dataset({\n",
              "        features: ['labels', 'input_ids', 'token_type_ids', 'attention_mask'],\n",
              "        num_rows: 16000\n",
              "    })\n",
              "    test: Dataset({\n",
              "        features: ['labels', 'input_ids', 'token_type_ids', 'attention_mask'],\n",
              "        num_rows: 2000\n",
              "    })\n",
              "})"
            ]
          },
          "execution_count": 12,
          "metadata": {},
          "output_type": "execute_result"
        }
      ],
      "source": [
        "tokenized_dataset = dataset.map(tokenized_text)\n",
        "tokenized_dataset = tokenized_dataset.remove_columns(\"text\")\n",
        "tokenized_dataset"
      ]
    },
    {
      "cell_type": "markdown",
      "metadata": {
        "id": "sIrAV5rJSTrD"
      },
      "source": [
        "## Build Model"
      ]
    },
    {
      "cell_type": "code",
      "execution_count": null,
      "metadata": {
        "id": "tuUjPBEQSTrD",
        "outputId": "3dc4cf63-935a-422b-eb01-8d3691f39661"
      },
      "outputs": [
        {
          "name": "stderr",
          "output_type": "stream",
          "text": [
            "Some weights of AlbertForSequenceClassification were not initialized from the model checkpoint at albert-base-v2 and are newly initialized: ['classifier.bias', 'classifier.weight']\n",
            "You should probably TRAIN this model on a down-stream task to be able to use it for predictions and inference.\n"
          ]
        },
        {
          "data": {
            "text/html": [
              "\n",
              "    <div>\n",
              "      \n",
              "      <progress value='625' max='625' style='width:300px; height:20px; vertical-align: middle;'></progress>\n",
              "      [625/625 04:17, Epoch 5/5]\n",
              "    </div>\n",
              "    <table border=\"1\" class=\"dataframe\">\n",
              "  <thead>\n",
              " <tr style=\"text-align: left;\">\n",
              "      <th>Epoch</th>\n",
              "      <th>Training Loss</th>\n",
              "      <th>Validation Loss</th>\n",
              "      <th>F1</th>\n",
              "      <th>Precision</th>\n",
              "      <th>Recall</th>\n",
              "    </tr>\n",
              "  </thead>\n",
              "  <tbody>\n",
              "    <tr>\n",
              "      <td>1</td>\n",
              "      <td>1.573300</td>\n",
              "      <td>1.105911</td>\n",
              "      <td>0.460237</td>\n",
              "      <td>0.388837</td>\n",
              "      <td>0.584500</td>\n",
              "    </tr>\n",
              "    <tr>\n",
              "      <td>2</td>\n",
              "      <td>1.002000</td>\n",
              "      <td>0.506952</td>\n",
              "      <td>0.848120</td>\n",
              "      <td>0.860331</td>\n",
              "      <td>0.857500</td>\n",
              "    </tr>\n",
              "    <tr>\n",
              "      <td>3</td>\n",
              "      <td>0.547200</td>\n",
              "      <td>0.326872</td>\n",
              "      <td>0.902739</td>\n",
              "      <td>0.907503</td>\n",
              "      <td>0.904000</td>\n",
              "    </tr>\n",
              "    <tr>\n",
              "      <td>4</td>\n",
              "      <td>0.254600</td>\n",
              "      <td>0.275435</td>\n",
              "      <td>0.913067</td>\n",
              "      <td>0.918216</td>\n",
              "      <td>0.914500</td>\n",
              "    </tr>\n",
              "    <tr>\n",
              "      <td>5</td>\n",
              "      <td>0.207000</td>\n",
              "      <td>0.255573</td>\n",
              "      <td>0.914568</td>\n",
              "      <td>0.916676</td>\n",
              "      <td>0.915000</td>\n",
              "    </tr>\n",
              "  </tbody>\n",
              "</table><p>"
            ],
            "text/plain": [
              "<IPython.core.display.HTML object>"
            ]
          },
          "metadata": {},
          "output_type": "display_data"
        },
        {
          "name": "stderr",
          "output_type": "stream",
          "text": [
            "/home/saurabh/anaconda3/envs/lighting/lib/python3.8/site-packages/sklearn/metrics/_classification.py:1471: UndefinedMetricWarning: Precision is ill-defined and being set to 0.0 in labels with no predicted samples. Use `zero_division` parameter to control this behavior.\n",
            "  _warn_prf(average, modifier, msg_start, len(result))\n",
            "Checkpoint destination directory checkpoints_logs/checkpoint-125 already exists and is non-empty.Saving will proceed but saved results may be invalid.\n",
            "Checkpoint destination directory checkpoints_logs/checkpoint-250 already exists and is non-empty.Saving will proceed but saved results may be invalid.\n"
          ]
        },
        {
          "data": {
            "text/plain": [
              "TrainOutput(global_step=625, training_loss=0.6353464401245117, metrics={'train_runtime': 258.4605, 'train_samples_per_second': 309.525, 'train_steps_per_second': 2.418, 'total_flos': 186777744000000.0, 'train_loss': 0.6353464401245117, 'epoch': 5.0})"
            ]
          },
          "execution_count": 15,
          "metadata": {},
          "output_type": "execute_result"
        }
      ],
      "source": [
        "## CONFIG\n",
        "TRAIN_BATCH_SIZE = 128\n",
        "EVAL_BATCH_SIZE = 64\n",
        "LEARNING_RATE = 1e-5\n",
        "EPOCHS = 5\n",
        "\n",
        "train_dataset = tokenized_dataset['train']\n",
        "eval_dataset = tokenized_dataset['test']\n",
        "metric = evaluate.combine(['f1','precision','recall'])\n",
        "\n",
        "def compute_metrics(eval_pred):\n",
        "    logits, labels = eval_pred\n",
        "    predictions = np.argmax(logits, axis = -1)\n",
        "    return metric.compute(predictions=predictions, references=labels, average=\"weighted\")\n",
        "\n",
        "## Training argument\n",
        "args = TrainingArguments(\"checkpoints_logs\", evaluation_strategy=\"epoch\", save_strategy=\"epoch\",\n",
        "                  per_device_train_batch_size= TRAIN_BATCH_SIZE,per_device_eval_batch_size= EVAL_BATCH_SIZE,\n",
        "                  use_cpu=False, learning_rate= LEARNING_RATE, num_train_epochs=EPOCHS, weight_decay= .01,\n",
        "                  warmup_steps = 100, logging_dir= \"logs\", logging_steps=100, run_name= None)\n",
        "\n",
        "## Model\n",
        "model = AutoModelForSequenceClassification.from_pretrained(model_name,\n",
        "                                                           num_labels = len(id2label),\n",
        "                                                           id2label = id2label,\n",
        "                                                           label2id = label2id)\n",
        "## Trainer\n",
        "trainer = Trainer(model,\n",
        "                  args,\n",
        "                  train_dataset= train_dataset,\n",
        "                  eval_dataset=eval_dataset,\n",
        "                  compute_metrics= compute_metrics\n",
        "                  )\n",
        "\n",
        "## Model training\n",
        "trainer.train()"
      ]
    },
    {
      "cell_type": "markdown",
      "metadata": {
        "id": "HW9QiUQySTrD"
      },
      "source": [
        "## Inference"
      ]
    },
    {
      "cell_type": "code",
      "execution_count": null,
      "metadata": {
        "id": "ZYGijSrlSTrD"
      },
      "outputs": [],
      "source": [
        "model = model.eval().to(\"cpu\")"
      ]
    },
    {
      "cell_type": "code",
      "execution_count": null,
      "metadata": {
        "id": "Th-0PXjKSTrD",
        "outputId": "be20edba-90c3-4998-b2af-0eadff35bc40"
      },
      "outputs": [
        {
          "data": {
            "text/plain": [
              "'joy'"
            ]
          },
          "execution_count": 24,
          "metadata": {},
          "output_type": "execute_result"
        }
      ],
      "source": [
        "text = \"I love you\"\n",
        "inputs = tokenizer(text, return_tensors= \"pt\")\n",
        "logits = model(**inputs)['logits'].detach().numpy()\n",
        "preds = np.argmax(logits,axis=-1)[0]\n",
        "id2label[preds]"
      ]
    },
    {
      "cell_type": "code",
      "execution_count": null,
      "metadata": {
        "id": "DkS6omK1STrD",
        "outputId": "589e353b-a1b2-4b2f-d43d-95885a357573"
      },
      "outputs": [
        {
          "data": {
            "text/plain": [
              "'fear'"
            ]
          },
          "execution_count": 26,
          "metadata": {},
          "output_type": "execute_result"
        }
      ],
      "source": [
        "text = \"how dare you\"\n",
        "inputs = tokenizer(text, return_tensors= \"pt\")\n",
        "logits = model(**inputs)['logits'].detach().numpy()\n",
        "preds = np.argmax(logits,axis=-1)[0]\n",
        "id2label[preds]"
      ]
    }
  ],
  "metadata": {
    "kernelspec": {
      "display_name": "lighting",
      "language": "python",
      "name": "python3"
    },
    "language_info": {
      "codemirror_mode": {
        "name": "ipython",
        "version": 3
      },
      "file_extension": ".py",
      "mimetype": "text/x-python",
      "name": "python",
      "nbconvert_exporter": "python",
      "pygments_lexer": "ipython3",
      "version": "3.8.18"
    },
    "colab": {
      "provenance": [],
      "include_colab_link": true
    }
  },
  "nbformat": 4,
  "nbformat_minor": 0
}